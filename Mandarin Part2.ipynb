{
 "cells": [
  {
   "cell_type": "markdown",
   "metadata": {},
   "source": [
    "Mandarin Tone Recognition Part 2\n",
    "===========\n",
    "This notebook is a continuation of Mandarin Tone Recognition Part 1\n",
    "\n",
    "A description of mandarin tones is available here: https://en.wikipedia.org/wiki/Standard_Chinese_phonology#Tones\n",
    "\n",
    "In part 1, we manually extracted tone lines from the spectrograms of mandarin tone recordings. Features were extracted from these lines, and these features were used to train a random forrest classifier. The resulting accuracy of approximately 75% was insufficient for practical applications. \n",
    "\n",
    "In this notebook, the method is altered in two ways: 1) In part 1, we used recordings of single character words only; part 2 uses words of any length. 2) Rather than the manual feature extraction used in part 1, this part uses the raw spectograms as the input for a convolutional neural network."
   ]
  },
  {
   "cell_type": "markdown",
   "metadata": {},
   "source": [
    "## 1. Dataset Expansion\n",
    "\n",
    "In this section, we expand the wiktionary-based pronunciation dataset by including words with variable character length. "
   ]
  },
  {
   "cell_type": "code",
   "execution_count": 1,
   "metadata": {},
   "outputs": [],
   "source": [
    "import requests\n",
    "import itertools\n",
    "import re\n",
    "import numpy as np\n",
    "import pandas as pd\n",
    "import matplotlib.pyplot as plt\n",
    "from wiktionaryparser import WiktionaryParser\n",
    "from pydub import AudioSegment\n",
    "from pydub import silence\n",
    "from scipy import signal\n",
    "from scipy.io import wavfile\n",
    "from scipy.stats import mode\n",
    "from tqdm import tqdm_notebook\n",
    "%matplotlib inline"
   ]
  },
  {
   "cell_type": "markdown",
   "metadata": {},
   "source": [
    "We use the vocabularly lists for the HSK and TOCFL mandarin examinations to build the dataset. Overlapping entries are be removed.\n",
    "\n",
    "HSK: \n",
    "\n",
    "TOCFL: https://www.sc-top.org.tw/chinese/download.php"
   ]
  },
  {
   "cell_type": "code",
   "execution_count": 2,
   "metadata": {},
   "outputs": [
    {
     "name": "stdout",
     "output_type": "stream",
     "text": [
      "8420 unique mandarin words extracted from the HSK and TOCFL vocab lists\n"
     ]
    }
   ],
   "source": [
    "files = ['hsk1.txt', \n",
    "         'hsk2.txt', \n",
    "         'hsk3.txt', \n",
    "         'hsk4.txt', \n",
    "         'hsk5.txt', \n",
    "         'hsk6.txt', \n",
    "         'tocflA.txt', \n",
    "         'tocflB.txt', \n",
    "         'tocflC.txt']\n",
    "lines = []\n",
    "for text_file in files:\n",
    "    with open(text_file, 'r', encoding='utf-8') as file:\n",
    "        lines += file.readlines()\n",
    "\n",
    "words = []\n",
    "for line in lines:\n",
    "    words.append(re.findall(r'[\\u4e00-\\u9fff]+', line)[0])\n",
    "\n",
    "words = list(set(words))\n",
    "print(\"{:d} unique mandarin words extracted from the HSK and TOCFL vocab lists\".format(len(words)))"
   ]
  },
  {
   "cell_type": "markdown",
   "metadata": {},
   "source": [
    "The following functions were adapted slightly from those used in part 1 to enable multi-character words. \n",
    "\n",
    "The function get_tones returns a list of the tone numbers for the supplied pinyin and hanzi. Some tone patterns result in changes to the pronunciation (e.g., two third tones are pronounced as a second tone followed by a third tone). The function tone_adjustments handles these changes for the majority of cases."
   ]
  },
  {
   "cell_type": "code",
   "execution_count": 3,
   "metadata": {},
   "outputs": [],
   "source": [
    "from itertools import groupby, cycle \n",
    "  \n",
    "def group_sequence(l): \n",
    "    \"\"\"\n",
    "    A helper function for tone adjustment\n",
    "    Takes a list of integers as its argument\n",
    "    Returns a list of tuples containing subsequences of l that increase by 1 for each index \n",
    "    e.g., [1, 2, 3, 1, 2, 2, 1, 1] returns [(1, 2, 3), (1, 2)]\n",
    "    \"\"\"\n",
    "    temp_list = cycle(l) \n",
    "    next(temp_list) \n",
    "    groups = groupby(l, key = lambda j: j + 1 == next(temp_list)) \n",
    "    for k, v in groups: \n",
    "        if k: \n",
    "            yield tuple(v) + (next((next(groups)[1])), ) \n",
    "\n",
    "def tone_adjustment(tones, hanzi):\n",
    "    \"\"\"\n",
    "    Adjusts a list of tones according to the rules for mandarin tone adjustment and return the corrected list of tones\n",
    "    (e.g., [3, 3] --> [2, 3])\n",
    "    \"\"\"\n",
    "    three_indexes = [i for i, v in enumerate(tones) if v ==3]\n",
    "    if len(three_indexes) > 0:\n",
    "        #Find the indexes of adjacent groups of third tones.\n",
    "        three_chains = list(group_sequence(three_indexes))\n",
    "        for three_chain in three_chains:\n",
    "            tones[min(three_chain):max(three_chain) + 1] = [2]*(max(three_chain) - min(three_chain)) + [3]\n",
    "    if \"不\" in hanzi and hanzi[-1] != \"不\":\n",
    "        if tones[hanzi.index(\"不\") + 1] == 4:\n",
    "            tones[hanzi.index(\"不\")] = 2\n",
    "    if \"一\" in hanzi and hanzi[-1] != \"一\":\n",
    "        following_char = hanzi[hanzi.index(\"一\")+1]\n",
    "        #There are more exceptions to the tone change rules for 一;\n",
    "        #they are rather more complex and appear unlikely to affect\n",
    "        #the multi-character words in this project. See following:\n",
    "        #https://resources.allsetlearning.com/chinese/pronunciation/Tone_change_rules\n",
    "        if following_char not in [\"一\", \"二\", \"三\", \"四\", \"五\", \"六\", \"七\", \"八\", \"九\"]:\n",
    "            if tones[hanzi.index(\"一\")+1] == 4:\n",
    "                tones[hanzi.index(\"一\")] = 2\n",
    "            else:\n",
    "                tones[hanzi.index(\"一\")] = 4\n",
    "    return tones"
   ]
  },
  {
   "cell_type": "code",
   "execution_count": 4,
   "metadata": {},
   "outputs": [],
   "source": [
    "def get_tones(pinyin, hanzi):\n",
    "    \"\"\"\n",
    "    Returns a list of integers representing the tones for a pinyin word\n",
    "    \"\"\"\n",
    "    num_chars = len(hanzi)\n",
    "    tones = []\n",
    "    found_tones = re.findall(\"[āēīōūǖĀĒĪŌŪǕáéíóúǘÁÉÍÓÚǗǎěǐǒǔǚǍĚǏǑǓǙàèìòùǜÀÈÌÒÙǛ]\", pinyin)\n",
    "    if len(found_tones) == num_chars:\n",
    "        for sylable in found_tones:\n",
    "            if re.search(\"[āēīōūǖĀĒĪŌŪǕ]\", sylable):\n",
    "                tones.append(1)\n",
    "            elif re.search(\"[áéíóúǘÁÉÍÓÚǗ]\", sylable):\n",
    "                tones.append(2)\n",
    "            elif re.search(\"[ǎěǐǒǔǚǍĚǏǑǓǙ]\", sylable):\n",
    "                tones.append(3)\n",
    "            elif re.search(\"[àèìòùǜÀÈÌÒÙǛ]\", sylable):\n",
    "                tones.append(4)\n",
    "    elif len(found_tones) < num_chars:\n",
    "        for sylable in found_tones:\n",
    "            if re.search(\"[āēīōūǖĀĒĪŌŪǕ]\", sylable):\n",
    "                tones.append(1)\n",
    "            elif re.search(\"[áéíóúǘÁÉÍÓÚǗ]\", sylable):\n",
    "                tones.append(2)\n",
    "            elif re.search(\"[ǎěǐǒǔǚǍĚǏǑǓǙ]\", sylable):\n",
    "                tones.append(3)\n",
    "            elif re.search(\"[àèìòùǜÀÈÌÒÙǛ]\", sylable):\n",
    "                tones.append(4)\n",
    "        for i in range(num_chars - len(found_tones)):\n",
    "            tones.append(5)\n",
    "            \n",
    "    return tone_adjustment(tones, hanzi)"
   ]
  },
  {
   "cell_type": "code",
   "execution_count": null,
   "metadata": {},
   "outputs": [],
   "source": [
    "def get_pronuncitation(character, verbose=False):\n",
    "    \"\"\"\n",
    "    Returns the standard pronunciation tone for the provided character\n",
    "    If no audio files are available for the character return False\n",
    "    Also saves the related audio file as ...\\word.ogg\n",
    "    \"\"\"\n",
    "    parser = WiktionaryParser()\n",
    "    try:\n",
    "        word = parser.fetch(character, 'chinese')\n",
    "    except AttributeError as error:\n",
    "        if verbose:\n",
    "            print(\"Attribute error for \", character, error)\n",
    "        return False\n",
    "    except KeyError as error:\n",
    "        if verbose:\n",
    "            print(\"Key error for \", character, error)\n",
    "        return False\n",
    "    if len(word) > 0:\n",
    "        if len(word[0]['pronunciations']['audio']) > 0:\n",
    "            if verbose:\n",
    "                print(word[0]['pronunciations']['text'][0])\n",
    "                print(\"tones: \", get_tones(word[0]['pronunciations']['text'][0].split(\":\")[1].split()[0], character))\n",
    "            tones = get_tones(word[0]['pronunciations']['text'][0].split(\":\")[1].split()[0], character)\n",
    "            url = 'https:' + word[0]['pronunciations']['audio'][0]\n",
    "            r = requests.get(url, allow_redirects=True)\n",
    "            with open(r'word.ogg', 'wb') as file:\n",
    "                file.write(r.content)\n",
    "            return tones\n",
    "        else:\n",
    "            if verbose:\n",
    "                print(\"No audio file available for this hanzi\")\n",
    "            return False\n",
    "    else:\n",
    "        if verbose:\n",
    "            print(\"No audio file available for this hanzi\")\n",
    "        return False"
   ]
  },
  {
   "cell_type": "code",
   "execution_count": 6,
   "metadata": {},
   "outputs": [],
   "source": [
    "def trim_silence(data):\n",
    "    \"\"\"\n",
    "    Removes leading and trailing silences from the signal\n",
    "    Returns the signal with these silences removed.\n",
    "    \"\"\"\n",
    "    non_silent = [np.mean(np.abs(data[i:i+800])) for i in range(len(data)-799)]\n",
    "    non_silent = (non_silent > max(data)*0.02).tolist()\n",
    "    start = non_silent.index(True)-int(len(data)*0.005)\n",
    "    end = len(non_silent) - non_silent[::-1].index(True)+int(len(data)*0.005)\n",
    "    return data[start:end]"
   ]
  },
  {
   "cell_type": "markdown",
   "metadata": {},
   "source": [
    "Next, we loop over all the words in the list of unique HSK and TOCFL vocabulary to build the dataset. At each stage an entry is added to the dataframe df if the pronunciation is available. \n",
    "\n",
    "Since many of the words are composed of multiple characters, we must find a way to separate the sounds. Attempting to split on silence was unsuccessful, because distinguishable silence between characters is often not present. Therefore, we divide the audio data into equal chunks according to the number of characters expected. This imperfect approach is likely to lead to some undesired overlap (or leakage) between adjacent tone spectrograms. Consider improvements to this approach in future."
   ]
  },
  {
   "cell_type": "code",
   "execution_count": 10,
   "metadata": {},
   "outputs": [
    {
     "data": {
      "application/vnd.jupyter.widget-view+json": {
       "model_id": "8d9615cee1ef437c89dcf0598ca54185",
       "version_major": 2,
       "version_minor": 0
      },
      "text/plain": [
       "HBox(children=(IntProgress(value=0, max=1078), HTML(value='')))"
      ]
     },
     "metadata": {},
     "output_type": "display_data"
    }
   ],
   "source": [
    "df = pd.DataFrame({\"hanzi\": [], \n",
    "                   \"tone\": [], \n",
    "                   \"Sxx\": []})\n",
    "\n",
    "for word in tqdm_notebook(words[7342:]):\n",
    "    num_chars = len(word)\n",
    "    tones = get_pronuncitation(word, verbose=False)\n",
    "    if tones:\n",
    "        try:\n",
    "            sound = AudioSegment.from_ogg(r'word.ogg')\n",
    "        except Exception as error:\n",
    "            pass\n",
    "        sound.export(r'word.wav', format=\"wav\")\n",
    "        #Open the wav file\n",
    "        fs, data = wavfile.read(r'word.wav')\n",
    "        if len(data.shape) > 1:\n",
    "            data = data.T[0]\n",
    "        #Trim leading and trailing silences\n",
    "        trimmed_data = trim_silence(data)\n",
    "        if len(trimmed_data) > 100:\n",
    "            for i in range(num_chars):\n",
    "                #Split the data into character chunks\n",
    "                chunk = trimmed_data[i*int(len(trimmed_data)/num_chars):(i+1)*int(len(trimmed_data)/num_chars)]\n",
    "                #Obtain spectograms\n",
    "                f, t, Sxx = signal.spectrogram(chunk, fs, nperseg=1024, nfft=1024*4)\n",
    "                #Trim the frequency domain\n",
    "                bound = len([freq for freq in f if freq < 1000])\n",
    "                Sxx = Sxx[:bound]\n",
    "                df = df.append(pd.DataFrame({\"hanzi\": [word], \n",
    "                                             \"tone\": [tones[i]], \n",
    "                                             \"Sxx\": [Sxx]}), ignore_index=True)"
   ]
  },
  {
   "cell_type": "markdown",
   "metadata": {},
   "source": [
    "The resulting spectograms are of different sizes; we standardize them by adding zeros to create equally sized arrays."
   ]
  },
  {
   "cell_type": "code",
   "execution_count": 11,
   "metadata": {},
   "outputs": [],
   "source": [
    "max_frequency = max([f for f, t in list(set(df.Sxx.apply(lambda x: x.shape).tolist()))])\n",
    "max_time = max([t for f, t in list(set(df.Sxx.apply(lambda x: x.shape).tolist()))])\n",
    "\n",
    "def pad_frequency(x):\n",
    "    if x.shape[0] < max_frequency:\n",
    "        return np.concatenate((x, np.zeros((max_frequency - x.shape[0], x.shape[1]))), axis=0)\n",
    "    else:\n",
    "        return x\n",
    "      \n",
    "def pad_time(x):\n",
    "    if x.shape[1] < max_time:\n",
    "        return np.concatenate((x, np.zeros((x.shape[0], max_time-x.shape[1]))), axis=1)\n",
    "    else:\n",
    "        return x\n",
    "\n",
    "df.Sxx = df.Sxx.apply(lambda x: pad_frequency(pad_time(x)))"
   ]
  },
  {
   "cell_type": "markdown",
   "metadata": {},
   "source": [
    "## 2. Classifier Training\n",
    "\n",
    "In this section we train a convolutional neural network (CNN) to classify the spectrograms into one of the 5 tones. CNNs have been successfully applied to the classification of handwritten digits using the MNIST dataset. Initially, we use the model recommended by keras for hand-written digit classification https://keras.io/examples/mnist_cnn/"
   ]
  },
  {
   "cell_type": "code",
   "execution_count": 12,
   "metadata": {},
   "outputs": [
    {
     "name": "stderr",
     "output_type": "stream",
     "text": [
      "Using TensorFlow backend.\n"
     ]
    }
   ],
   "source": [
    "import keras\n",
    "from keras.datasets import mnist\n",
    "from keras.models import Sequential\n",
    "from keras.layers import Dense, Dropout, Flatten\n",
    "from keras.layers import Conv2D, MaxPooling2D\n",
    "from keras import backend as K\n",
    "from keras import regularizers\n",
    "from sklearn.model_selection import train_test_split"
   ]
  },
  {
   "cell_type": "code",
   "execution_count": 13,
   "metadata": {},
   "outputs": [],
   "source": [
    "batch_size = 128\n",
    "num_classes = 5\n",
    "epochs = 12\n",
    "\n",
    "img_rows, img_cols = max_frequency, max_time\n",
    "input_shape = (img_rows, img_cols, 1)"
   ]
  },
  {
   "cell_type": "code",
   "execution_count": 14,
   "metadata": {},
   "outputs": [],
   "source": [
    "X = df.Sxx.values\n",
    "X = np.array([x.tolist() for x in X.flatten()]).reshape(X.shape[0], img_rows, img_cols)\n",
    "y = df.tone.values\n",
    "\n",
    "#Normalize each image by dividing by the maximum value for that image.\n",
    "for i in range(X.shape[0]):\n",
    "    X[i] = X[i] / np.max(X[i])\n",
    "\n",
    "#Instead of tones 1-5, the classifier will predict 0-4. \n",
    "#Subtract 1 from all samples; 1 will be added to the \n",
    "#prediction result to yield the appropriate tone designation\n",
    "y = y - 1\n",
    "\n",
    "X_train, X_test, y_train, y_test = train_test_split(X, y, test_size=0.2)\n",
    "\n",
    "# convert class vectors to binary class matrices\n",
    "y_train = keras.utils.to_categorical(y_train, num_classes)\n",
    "y_test = keras.utils.to_categorical(y_test, num_classes)\n",
    "\n",
    "X_train = X_train.reshape(X_train.shape[0], img_rows, img_cols, 1)\n",
    "X_test = X_test.reshape(X_test.shape[0], img_rows, img_cols, 1)"
   ]
  },
  {
   "cell_type": "code",
   "execution_count": 16,
   "metadata": {},
   "outputs": [
    {
     "name": "stdout",
     "output_type": "stream",
     "text": [
      "_________________________________________________________________\n",
      "Layer (type)                 Output Shape              Param #   \n",
      "=================================================================\n",
      "conv2d_3 (Conv2D)            (None, 92, 53, 32)        320       \n",
      "_________________________________________________________________\n",
      "conv2d_4 (Conv2D)            (None, 90, 51, 64)        18496     \n",
      "_________________________________________________________________\n",
      "max_pooling2d_2 (MaxPooling2 (None, 45, 25, 64)        0         \n",
      "_________________________________________________________________\n",
      "dropout_3 (Dropout)          (None, 45, 25, 64)        0         \n",
      "_________________________________________________________________\n",
      "flatten_2 (Flatten)          (None, 72000)             0         \n",
      "_________________________________________________________________\n",
      "dense_3 (Dense)              (None, 128)               9216128   \n",
      "_________________________________________________________________\n",
      "dropout_4 (Dropout)          (None, 128)               0         \n",
      "_________________________________________________________________\n",
      "dense_4 (Dense)              (None, 5)                 645       \n",
      "=================================================================\n",
      "Total params: 9,235,589\n",
      "Trainable params: 9,235,589\n",
      "Non-trainable params: 0\n",
      "_________________________________________________________________\n"
     ]
    }
   ],
   "source": [
    "model = Sequential()\n",
    "model.add(Conv2D(32, kernel_size=(3, 3),\n",
    "                 activation='relu',\n",
    "                 input_shape=input_shape))\n",
    "model.add(Conv2D(64, (3, 3), activation='relu'))\n",
    "model.add(MaxPooling2D(pool_size=(2, 2)))\n",
    "model.add(Dropout(0.25))\n",
    "model.add(Flatten())\n",
    "model.add(Dense(128, activation='relu'))\n",
    "model.add(Dropout(0.5))\n",
    "model.add(Dense(num_classes, activation='softmax'))\n",
    "\n",
    "\n",
    "\n",
    "model.compile(loss=keras.losses.categorical_crossentropy,\n",
    "              optimizer=keras.optimizers.Adam(),\n",
    "              metrics=['accuracy'])\n",
    "\n",
    "model.summary()"
   ]
  },
  {
   "cell_type": "code",
   "execution_count": 17,
   "metadata": {},
   "outputs": [
    {
     "name": "stderr",
     "output_type": "stream",
     "text": [
      "W0811 15:48:19.193753  1724 deprecation.py:323] From C:\\Users\\chris\\Anaconda3\\envs\\tone_env\\lib\\site-packages\\tensorflow\\python\\ops\\math_grad.py:1250: add_dispatch_support.<locals>.wrapper (from tensorflow.python.ops.array_ops) is deprecated and will be removed in a future version.\n",
      "Instructions for updating:\n",
      "Use tf.where in 2.0, which has the same broadcast rule as np.where\n"
     ]
    },
    {
     "name": "stdout",
     "output_type": "stream",
     "text": [
      "Train on 3556 samples, validate on 889 samples\n",
      "Epoch 1/12\n",
      " - 69s - loss: 0.9132 - acc: 0.6679 - val_loss: 0.6688 - val_acc: 0.7953\n",
      "Epoch 2/12\n",
      " - 65s - loss: 0.5466 - acc: 0.8361 - val_loss: 0.5344 - val_acc: 0.8470\n",
      "Epoch 3/12\n",
      " - 67s - loss: 0.4241 - acc: 0.8768 - val_loss: 0.4729 - val_acc: 0.8763\n",
      "Epoch 4/12\n",
      " - 68s - loss: 0.3411 - acc: 0.9010 - val_loss: 0.4534 - val_acc: 0.8886\n",
      "Epoch 5/12\n",
      " - 62s - loss: 0.2874 - acc: 0.9196 - val_loss: 0.4552 - val_acc: 0.8830\n",
      "Epoch 6/12\n",
      " - 66s - loss: 0.2600 - acc: 0.9224 - val_loss: 0.4965 - val_acc: 0.8718\n",
      "Epoch 7/12\n",
      " - 67s - loss: 0.2291 - acc: 0.9317 - val_loss: 0.4744 - val_acc: 0.8864\n",
      "Epoch 8/12\n",
      " - 63s - loss: 0.1987 - acc: 0.9390 - val_loss: 0.5058 - val_acc: 0.8819\n",
      "Epoch 9/12\n",
      " - 79s - loss: 0.1645 - acc: 0.9513 - val_loss: 0.5318 - val_acc: 0.8898\n",
      "Epoch 10/12\n",
      " - 73s - loss: 0.1372 - acc: 0.9581 - val_loss: 0.5764 - val_acc: 0.8943\n",
      "Epoch 11/12\n",
      " - 70s - loss: 0.1329 - acc: 0.9595 - val_loss: 0.5836 - val_acc: 0.8830\n",
      "Epoch 12/12\n",
      " - 78s - loss: 0.1260 - acc: 0.9626 - val_loss: 0.5920 - val_acc: 0.8920\n",
      "Test loss: 0.591956217927257\n",
      "Test accuracy: 0.8920134981786172\n"
     ]
    }
   ],
   "source": [
    "history = model.fit(X_train, y_train,\n",
    "          batch_size=batch_size,\n",
    "          epochs=12,\n",
    "          verbose=2,\n",
    "          validation_data=(X_test, y_test))\n",
    "score = model.evaluate(X_test, y_test, verbose=0)\n",
    "print('Test loss:', score[0])\n",
    "print('Test accuracy:', score[1])"
   ]
  },
  {
   "cell_type": "code",
   "execution_count": 18,
   "metadata": {},
   "outputs": [
    {
     "data": {
      "image/png": "[encoded data removed]",
      "text/plain": [
       "<Figure size 432x288 with 1 Axes>"
      ]
     },
     "metadata": {
      "needs_background": "light"
     },
     "output_type": "display_data"
    }
   ],
   "source": [
    "plt.plot(history.history['acc'])\n",
    "plt.plot(history.history['val_acc'])\n",
    "plt.show()"
   ]
  },
  {
   "cell_type": "markdown",
   "metadata": {},
   "source": [
    "Classification using a CNN and the addition of multi-character words yields a substantial improvement in prediction accuracy. "
   ]
  },
  {
   "cell_type": "markdown",
   "metadata": {},
   "source": [
    "## 3. User Input Classification\n",
    "\n",
    "Similarly to part 1, we would now like to take a recorded input from the user and classify the tones. Given that multi-character words were used for training, we should also be able to take a multi-character word input from the user. After triming the leading and trailing silences, the resulting data will be divided into equal chunks according to the number of characters expected. \n",
    "\n",
    "In some cases, the time dimension of the user input spectrogram may exceed that provided to the classifier during training. We can sample from the user input to reduce the time dimension, however this is not ideal and may lead to an improper classification. Consider adopting a recurrent neural network architecture to process sequence data of unknown length."
   ]
  },
  {
   "cell_type": "code",
   "execution_count": 19,
   "metadata": {},
   "outputs": [],
   "source": [
    "import sounddevice as sd\n",
    "from scipy.io.wavfile import write"
   ]
  },
  {
   "cell_type": "code",
   "execution_count": 20,
   "metadata": {},
   "outputs": [],
   "source": [
    "def predict_tone(num_chars):\n",
    "    \"\"\"\n",
    "    Record an audio file from user; return the predicted tones for each character\n",
    "    \"\"\"\n",
    "    fs = 44000\n",
    "    seconds = 3 \n",
    "    print(\"Recording: Start\")\n",
    "    myrecording = sd.rec(int(seconds * fs), samplerate=fs, channels=2)\n",
    "    sd.wait()\n",
    "    print(\"Recording: Stop\")\n",
    "    write(r'rec.wav', fs, myrecording)\n",
    "    fs, data = wavfile.read(r'rec.wav')\n",
    "    if len(data.shape) > 1:\n",
    "        data = data.T[0]\n",
    "    #Trim leading and trailing silences\n",
    "    non_silent = [np.mean(np.abs(data[i:i+800])) for i in range(len(data)-799)]\n",
    "    non_silent = (non_silent > max(data)*0.02).tolist()\n",
    "    start = non_silent.index(True)-int(len(data)*0.005)\n",
    "    end = len(non_silent) - non_silent[::-1].index(True)+int(len(data)*0.005)\n",
    "    trimmed_data = data[start:end]\n",
    "    \n",
    "    predictions = []\n",
    "    \n",
    "    for i in range(num_chars):\n",
    "        chunk = trimmed_data[i*int(len(trimmed_data)/num_chars):(i+1)*int(len(trimmed_data)/num_chars)]\n",
    "        #Obtain spectograms\n",
    "        f, t, Sxx = signal.spectrogram(chunk, fs, nperseg=1024, nfft=1024*4)\n",
    "        #Trim the frequency domain\n",
    "        bound = len([freq for freq in f if freq < 1000])\n",
    "        Sxx = Sxx[:bound]\n",
    "        #Pad the time and frequency domains to match the classifier dimensions\n",
    "        Sxx = pad_frequency(pad_time(Sxx))\n",
    "        Sxx = Sxx / np.max(Sxx)\n",
    "        Sxx = Sxx.reshape(1, img_rows, img_cols, 1)\n",
    "        predictions.append(model.predict(Sxx))\n",
    "    return predictions"
   ]
  },
  {
   "cell_type": "code",
   "execution_count": 21,
   "metadata": {},
   "outputs": [
    {
     "name": "stdout",
     "output_type": "stream",
     "text": [
      "Recording: Start\n",
      "Recording: Stop\n",
      "Sylable 0 prediction: 1\n",
      "Tone 1 probability: 99.999714%\n",
      "Tone 2 probability: 0.000046%\n",
      "Tone 3 probability: 0.000017%\n",
      "Tone 4 probability: 0.000225%\n",
      "Tone 5 probability: 0.000002%\n",
      "...\n",
      "Sylable 1 prediction: 2\n",
      "Tone 1 probability: 0.002354%\n",
      "Tone 2 probability: 99.369240%\n",
      "Tone 3 probability: 0.590011%\n",
      "Tone 4 probability: 0.015387%\n",
      "Tone 5 probability: 0.023002%\n",
      "...\n"
     ]
    }
   ],
   "source": [
    "prediction = predict_tone(num_chars=2)\n",
    "for i, sylable in enumerate(prediction):\n",
    "    print(\"Sylable {:d} prediction: {:d}\".format(i, np.argmax(sylable) + 1))\n",
    "    for j in range(5):\n",
    "        print(\"Tone {:d} probability: {:f}%\".format(j + 1, sylable[0][j]*100))\n",
    "    print(\"...\")"
   ]
  },
  {
   "cell_type": "markdown",
   "metadata": {},
   "source": [
    "## 4. Next Steps\n",
    "\n",
    "Remaining problems with this approach:\n",
    "\n",
    "1. Insufficient training data: although the ammount of training data was greatly increased by including multi-character words, more data are likely required to increase the accuracy of the classifier. For example, the MNIST dataset for which our classifier was designed, includes approximately 6,000 samples for each category.\n",
    "2. Although the classifier achieved an accuracy of approximately 90% on the test data, testing with native mandarin speakers appears to yield considerably poorer results. This may be due to the lack of diversity in the training data (mostly male voice and Putonghua acccent); increasing the diversity of the data along with increasing the size of the dataset may improve the applicability of the classifier to a practical context."
   ]
  }
 ],
 "metadata": {
  "kernelspec": {
   "display_name": "Python 3",
   "language": "python",
   "name": "python3"
  },
  "language_info": {
   "codemirror_mode": {
    "name": "ipython",
    "version": 3
   },
   "file_extension": ".py",
   "mimetype": "text/x-python",
   "name": "python",
   "nbconvert_exporter": "python",
   "pygments_lexer": "ipython3",
   "version": "3.11.4"
  },
  "widgets": {
   "state": {
    "d143180a8e3842ba979c6786519c4674": {
     "views": [
      {
       "cell_index": 68
      }
     ]
    }
   },
   "version": "1.2.0"
  }
 },
 "nbformat": 4,
 "nbformat_minor": 2
}
